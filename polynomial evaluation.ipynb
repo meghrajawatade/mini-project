{
 "cells": [
  {
   "cell_type": "markdown",
   "id": "ee36276f-e7ec-4221-8fe3-954562e19e24",
   "metadata": {},
   "source": [
    "Polynomial evaluation"
   ]
  },
  {
   "cell_type": "markdown",
   "id": "b3a33d65-68c1-45b7-bccf-e99004cd434c",
   "metadata": {},
   "source": [
    "polynomial evaluation we have to take a list with all the coefficients and take a polynomial equation from the user we subtract the total number of elements  by 1 and give that as the highest power to the first element we arrange the coefficients accordingly including the zero and we take the value of the variable from the user and compute the values and coefficients accordingly and get the result"
   ]
  },
  {
   "cell_type": "code",
   "execution_count": 5,
   "id": "4358fa0e-5224-4045-aa64-b835d8b754de",
   "metadata": {},
   "outputs": [
    {
     "name": "stdout",
     "output_type": "stream",
     "text": [
      "1\n",
      "[1, 2, 3, 4, 5]\n"
     ]
    },
    {
     "data": {
      "text/plain": [
       "15"
      ]
     },
     "execution_count": 5,
     "metadata": {},
     "output_type": "execute_result"
    }
   ],
   "source": [
    "def poly(x,coeff):\n",
    "    print(x)\n",
    "    print(coeff)\n",
    "    total = 0\n",
    "    for i in range(len(coeff)):\n",
    "        total = total + coeff[i] * x**i\n",
    "    return total\n",
    "poly(1,[1,2,3,4,5])\n",
    "    \n",
    "    "
   ]
  },
  {
   "cell_type": "code",
   "execution_count": 27,
   "id": "0a9aa788-097e-46a2-995f-4909a5933e40",
   "metadata": {},
   "outputs": [
    {
     "name": "stdout",
     "output_type": "stream",
     "text": [
      "15\n"
     ]
    }
   ],
   "source": [
    "def pol(x,coff):\n",
    "    total = 0\n",
    "    for i in coff:\n",
    "        total = total * x + i\n",
    "    return total\n",
    "\n",
    "m = pol(1,[1,2,3,4,5])\n",
    "print(m)"
   ]
  },
  {
   "cell_type": "code",
   "execution_count": null,
   "id": "3fd8285a-62ca-4862-8d3d-461528234af6",
   "metadata": {},
   "outputs": [],
   "source": []
  }
 ],
 "metadata": {
  "kernelspec": {
   "display_name": "Python 3 (ipykernel)",
   "language": "python",
   "name": "python3"
  },
  "language_info": {
   "codemirror_mode": {
    "name": "ipython",
    "version": 3
   },
   "file_extension": ".py",
   "mimetype": "text/x-python",
   "name": "python",
   "nbconvert_exporter": "python",
   "pygments_lexer": "ipython3",
   "version": "3.13.1"
  }
 },
 "nbformat": 4,
 "nbformat_minor": 5
}
