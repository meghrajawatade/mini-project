{
 "cells": [
  {
   "cell_type": "markdown",
   "id": "aa888577-e226-435a-8b82-68efb103342f",
   "metadata": {},
   "source": [
    "This code calculates the value of PI by the Monte Carlo method.  \n",
    "This approach basically takes a quarter circle of radius 1 inside a square of side 1. It plots random points in the square. If the distance of the point is less than 1 from the origin (0,0), then it is inside the circle. As the points approximately tell us the area of the square and circle, we divide the points inside the circle and outside the circle and multiply it with 4 (as it is a quarter circle). We get the approximate values of PI. As the points are randomly generated, as the number of points increases, the accuracy increases."
   ]
  },
  {
   "cell_type": "code",
   "execution_count": 8,
   "id": "c5939d71-1297-49a8-8682-2786da395df7",
   "metadata": {},
   "outputs": [
    {
     "name": "stdout",
     "output_type": "stream",
     "text": [
      "3.1413426429328677\n"
     ]
    }
   ],
   "source": [
    "import matplotlib.pyplot as plt\n",
    "import math\n",
    "import random\n",
    "\n",
    "def pie(n):\n",
    "    crpt = 0\n",
    "    sqpt = 1\n",
    "    l = []\n",
    "    for i in range(n):\n",
    "        x = random.uniform(0,1)\n",
    "        y = random.uniform(0,1)\n",
    "        sqpt += 1\n",
    "        if (x**2 + y*y) < 1:# we can ignore the root in the distance formula\n",
    "            crpt += 1       # as if a distance has values less than (or greater than) 1,\n",
    "                            # its square will be also be less than (or greater than) 1\n",
    "        l.append(4 * crpt/sqpt)\n",
    "    return 4 * crpt/sqpt, l       \n",
    "w, cl = pie(20000000)\n",
    "print(w)"
   ]
  },
  {
   "cell_type": "code",
   "execution_count": null,
   "id": "90f45e93-70e6-409c-927b-910929e59afc",
   "metadata": {},
   "outputs": [],
   "source": [
    "plt.plot(cl)"
   ]
  },
  {
   "cell_type": "code",
   "execution_count": null,
   "id": "c9c2eb5e-212b-42f7-9c74-8ae713ec1f32",
   "metadata": {},
   "outputs": [],
   "source": []
  }
 ],
 "metadata": {
  "kernelspec": {
   "display_name": "Python 3 (ipykernel)",
   "language": "python",
   "name": "python3"
  },
  "language_info": {
   "codemirror_mode": {
    "name": "ipython",
    "version": 3
   },
   "file_extension": ".py",
   "mimetype": "text/x-python",
   "name": "python",
   "nbconvert_exporter": "python",
   "pygments_lexer": "ipython3",
   "version": "3.12.2"
  }
 },
 "nbformat": 4,
 "nbformat_minor": 5
}
