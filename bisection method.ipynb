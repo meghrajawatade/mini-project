{
 "cells": [
  {
   "cell_type": "markdown",
   "id": "2c1a8765-a9dd-44ce-b9b7-7780ba02571a",
   "metadata": {},
   "source": [
    "Bisection method"
   ]
  },
  {
   "cell_type": "markdown",
   "id": "4816ba3f-3cdf-42c8-9343-a0eb8ce1491f",
   "metadata": {},
   "source": [
    "We consider linear equations of the form f(x) = mx+ c, where m is the slope of the line and c is the y-intercept.  For convenience, we assume that the domain of the function (the valid values of x) is restricted to some range. The root of an equation is the value of x for which f(x)= 0\n",
    "\n",
    "The bisection method is one of the simplest numerical algorithms to find the root of an equation. Here’s how we proceed. We first find two values of x, say p1 and p2, such that f(p1) <0 and f(p2) >0. This can be done by randomly sampling x from its range. The intuition behind the bisection method is pretty straightforward: if we have two values of x for which the function is less than and greater than zero, then there must be some value of x between these two values for which the function is equal to zero. So we simply calculate (p1+p2)/2 and set either p1 or p2 to this new value, after evaluating the function to check if it is negative or positive for this value. We iterate till  p1=p2, which is the root we seek.\n"
   ]
  },
  {
   "cell_type": "code",
   "execution_count": 59,
   "id": "578f751f-8e02-4fa3-89f0-eb1b01dbd240",
   "metadata": {},
   "outputs": [
    {
     "name": "stdout",
     "output_type": "stream",
     "text": [
      "-1.4139831406136567 12\n",
      "-0.0006516780603398331\n"
     ]
    },
    {
     "data": {
      "text/plain": [
       "[<matplotlib.lines.Line2D at 0x1349b6ae0>]"
      ]
     },
     "execution_count": 59,
     "metadata": {},
     "output_type": "execute_result"
    },
    {
     "data": {
      "image/png": "[encoded data removed]",
      "text/plain": [
       "<Figure size 640x480 with 1 Axes>"
      ]
     },
     "metadata": {},
     "output_type": "display_data"
    }
   ],
   "source": [
    "import random\n",
    "import numpy as np\n",
    "import matplotlib.pyplot as plt\n",
    "\n",
    "def func(x):\n",
    "    return x**2 - 2\n",
    "    \n",
    "def bm(epsilon = 0.001):\n",
    "    \n",
    "    low = random.uniform(-5, 5) #intialize low \n",
    "    while (func(low) > 0):\n",
    "        low = random.uniform(-5,5)\n",
    "    high = random.uniform(-5, 5) # intialize high\n",
    "    while (func(high) < 0):\n",
    "        high = random.uniform(-5, 5)\n",
    "    midval = []\n",
    "    mid = 0\n",
    "    count = 0\n",
    "    for i in range(100): \n",
    "        \n",
    "        mid = (low + high) / 2\n",
    "        midval.append(func(mid))\n",
    "        count += 1\n",
    "        if func(mid) < 0:\n",
    "            low = mid\n",
    "        elif func(mid) > 0:\n",
    "            high = mid\n",
    "\n",
    "        if np.abs(func(mid)) <= epsilon:\n",
    "            break\n",
    "         \n",
    "        \n",
    "        #print(count)\n",
    "            \n",
    "    return mid, count, midval\n",
    "\n",
    "   \n",
    "r, c, l= bm()\n",
    "print(r, c)\n",
    "print(func(r))\n",
    "plt.plot(l)\n",
    "\n",
    "\n",
    "\n"
   ]
  },
  {
   "cell_type": "code",
   "execution_count": null,
   "id": "5441555a-fc16-4200-b22d-21f06e7c427b",
   "metadata": {},
   "outputs": [],
   "source": []
  }
 ],
 "metadata": {
  "kernelspec": {
   "display_name": "Python 3 (ipykernel)",
   "language": "python",
   "name": "python3"
  },
  "language_info": {
   "codemirror_mode": {
    "name": "ipython",
    "version": 3
   },
   "file_extension": ".py",
   "mimetype": "text/x-python",
   "name": "python",
   "nbconvert_exporter": "python",
   "pygments_lexer": "ipython3",
   "version": "3.12.2"
  }
 },
 "nbformat": 4,
 "nbformat_minor": 5
}
