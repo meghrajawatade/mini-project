{
 "cells": [
  {
   "cell_type": "markdown",
   "id": "eba3e9e8-505e-4278-bcdd-1a96c5f19c7e",
   "metadata": {},
   "source": [
    "Binary search is one of the fundamental searching algorithms. Instead of scanning the array sequentially — which takes O(N) time — binary search can find the target in O(log N) time. It works only on sorted arrays. The algorithm selects the middle element (mid) and compares it with the target:\n",
    "If the target is greater than mid, it searches the right half.\n",
    "If the target is smaller, it searches the left half.\n",
    "This process repeats until the target is found or the search space becomes empty.\n",
    "We are also calculating the time required to complete the algorithm"
   ]
  },
  {
   "cell_type": "code",
   "execution_count": 5,
   "id": "cb5ace91-d1e0-4a7b-839f-c26dbfe2199f",
   "metadata": {},
   "outputs": [
    {
     "name": "stdout",
     "output_type": "stream",
     "text": [
      "0 5 10\n",
      "0 5 4\n",
      "3 2 4\n",
      "4 3 4\n",
      "388\n",
      "4\n",
      "Elapsed time: -0.004031582968309522\n",
      "[47, 122, 294, 373, 388, 448, 488, 575, 2638, 3637, 4848]\n"
     ]
    }
   ],
   "source": [
    "import timeit\n",
    "\n",
    "b = [122, 373, 388, 448, 4848, 3637, 2638, 294, 575, 488, 47]\n",
    "b.sort()\n",
    "key = 388\n",
    "start = timeit.timeit()\n",
    "low = 0\n",
    "high = len(b)-1\n",
    "mid = (low + high) // 2\n",
    "\n",
    "while (low <= high):\n",
    "    print(low, mid, high)\n",
    "    \n",
    "    mid = (low + high) // 2\n",
    "    if b[mid] == key:\n",
    "        print(key)\n",
    "        print(mid)\n",
    "        break\n",
    "    elif b[mid] > key:\n",
    "        high = mid - 1\n",
    "     \n",
    "    else:\n",
    "        low = mid + 1\n",
    "     \n",
    "stop = timeit.timeit()\n",
    "timeElapsed = stop - start\n",
    "print(f'Elapsed time: {timeElapsed}')\n",
    "print(b)\n"
   ]
  }
 ],
 "metadata": {
  "kernelspec": {
   "display_name": "Python 3 (ipykernel)",
   "language": "python",
   "name": "python3"
  },
  "language_info": {
   "codemirror_mode": {
    "name": "ipython",
    "version": 3
   },
   "file_extension": ".py",
   "mimetype": "text/x-python",
   "name": "python",
   "nbconvert_exporter": "python",
   "pygments_lexer": "ipython3",
   "version": "3.13.1"
  }
 },
 "nbformat": 4,
 "nbformat_minor": 5
}
